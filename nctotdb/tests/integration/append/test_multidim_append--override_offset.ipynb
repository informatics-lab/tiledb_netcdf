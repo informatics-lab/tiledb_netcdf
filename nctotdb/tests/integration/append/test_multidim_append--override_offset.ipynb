{
 "cells": [
  {
   "cell_type": "markdown",
   "id": "68f0e08e-ad4b-4eac-8f1d-66faeb2db68e",
   "metadata": {},
   "source": [
    "# Test multi-dim append with override offset\n",
    "\n",
    "Test append operation between NetCDF datasets with two append dimensions, a scalar dimension, and an override offset in the scalar dimension."
   ]
  },
  {
   "cell_type": "code",
   "execution_count": null,
   "id": "eec8e236-439d-43d5-89aa-bd19b668824b",
   "metadata": {},
   "outputs": [],
   "source": [
    "import glob\n",
    "import os\n",
    "import tempfile\n",
    "\n",
    "import nctotdb"
   ]
  },
  {
   "cell_type": "code",
   "execution_count": null,
   "id": "1168b01b-09d8-4741-aea2-f6e4a3dc9156",
   "metadata": {},
   "outputs": [],
   "source": [
    "data_path = os.path.join(os.path.dirname(os.path.abspath(\".\")), \"data\")"
   ]
  },
  {
   "cell_type": "code",
   "execution_count": null,
   "id": "71d1134b-760a-494d-abb7-ee9076014814",
   "metadata": {},
   "outputs": [],
   "source": [
    "base_dataset = os.path.join(data_path, \"xy_tzs0.nc\")\n",
    "append_datasets = [os.path.join(data_path, \"xy_tzs1.nc\"),\n",
    "                   os.path.join(data_path, \"xy_tzs2.nc\"),\n",
    "                   os.path.join(data_path, \"xy_tzs3.nc\"),\n",
    "                   os.path.join(data_path, \"xy_tzs4.nc\"),\n",
    "                   os.path.join(data_path, \"xy_tzs5.nc\")]"
   ]
  },
  {
   "cell_type": "code",
   "execution_count": null,
   "id": "ad501500-1114-455e-b18c-85c65cc05b7c",
   "metadata": {},
   "outputs": [],
   "source": [
    "ncdm = nctotdb.NCDataModel(base_dataset)\n",
    "ncdm.populate()"
   ]
  },
  {
   "cell_type": "code",
   "execution_count": null,
   "id": "69fcd77e-cae3-48ca-a669-47bd2c8dc5e1",
   "metadata": {},
   "outputs": [],
   "source": [
    "fp = tempfile.TemporaryDirectory()\n",
    "array_filepath = fp.name\n",
    "array_filepath"
   ]
  },
  {
   "cell_type": "code",
   "execution_count": null,
   "id": "eb3c3ef9-c354-47de-b8a7-28a48d1aed67",
   "metadata": {},
   "outputs": [],
   "source": [
    "tiledb_name = \"multidim_scalar_append\"\n",
    "append_dims = [\"height\", \"time\"]\n",
    "data_array_name = \"data\"\n",
    "\n",
    "writer = nctotdb.TileDBWriter(ncdm,\n",
    "                              array_filepath=array_filepath,\n",
    "                              array_name=tiledb_name,\n",
    "                              unlimited_dims=append_dims)\n",
    "writer.create_domains()"
   ]
  },
  {
   "cell_type": "markdown",
   "id": "0054013c-bbd1-4550-9bca-51395e19d239",
   "metadata": {},
   "source": [
    "## Test 1. Append"
   ]
  },
  {
   "cell_type": "code",
   "execution_count": null,
   "id": "68e69f75-4621-4c46-ac46-56ec6a0d4dbc",
   "metadata": {},
   "outputs": [],
   "source": [
    "writer.append(append_datasets, append_dims, data_array_name,\n",
    "              override_offsets={\"height\": 1},\n",
    "              verbose=True)"
   ]
  },
  {
   "cell_type": "markdown",
   "id": "ea593a04-b1b9-4881-85e4-32b461bb045a",
   "metadata": {},
   "source": [
    "## Test 2. Load appended array as Iris cube"
   ]
  },
  {
   "cell_type": "code",
   "execution_count": null,
   "id": "adb1d462-9fef-44c9-a370-c03cef3715ad",
   "metadata": {},
   "outputs": [],
   "source": [
    "reader = nctotdb.TileDBReader(tiledb_name, array_filepath=array_filepath)\n",
    "reader.to_iris()"
   ]
  },
  {
   "cell_type": "code",
   "execution_count": null,
   "id": "e69b7e69-8565-4a76-aa10-4c1284f97ca6",
   "metadata": {},
   "outputs": [],
   "source": [
    "fp.cleanup()"
   ]
  }
 ],
 "metadata": {
  "kernelspec": {
   "display_name": "Python 3",
   "language": "python",
   "name": "python3"
  },
  "language_info": {
   "codemirror_mode": {
    "name": "ipython",
    "version": 3
   },
   "file_extension": ".py",
   "mimetype": "text/x-python",
   "name": "python",
   "nbconvert_exporter": "python",
   "pygments_lexer": "ipython3",
   "version": "3.8.10"
  }
 },
 "nbformat": 4,
 "nbformat_minor": 5
}

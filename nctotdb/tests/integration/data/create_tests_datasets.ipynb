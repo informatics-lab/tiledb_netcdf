{
 "cells": [
  {
   "cell_type": "markdown",
   "id": "d6874b7c-490d-46b1-b6de-6da4fa53be4f",
   "metadata": {},
   "source": [
    "# Create test datasets\n",
    "\n",
    "Create test datasets that can be used for integration tests for `tiledb_netcdf`, particularly for checking the excessive complexity of `append` (a) works at all, and (b) works correctly for a number of use-cases. Test datasets will be simple NetCDF files with random data and a minimum of required metadata.\n",
    "\n",
    "## Append use-cases\n",
    "\n",
    "We want `append` to be able to correctly stitch together multiple datasets in a number of different use-cases:\n",
    "* single-dim append\n",
    "* multi-dim append\n",
    "* scalar dim append\n",
    "* multiple domains\n",
    "* combining single-phenomenon datasets\n",
    "* combinations of the above\n",
    "\n",
    "## Setup\n",
    "\n",
    "Imports and functions to make Iris cubes. "
   ]
  },
  {
   "cell_type": "code",
   "execution_count": null,
   "id": "bbb79f41-80b0-4542-a430-08d726ef3edb",
   "metadata": {},
   "outputs": [],
   "source": [
    "import iris\n",
    "from iris.coords import DimCoord\n",
    "from iris.cube import Cube, CubeList\n",
    "import netCDF4\n",
    "import numpy as np"
   ]
  },
  {
   "cell_type": "code",
   "execution_count": null,
   "id": "50bdab07-df77-498c-ab0a-8d688ee4c7f7",
   "metadata": {},
   "outputs": [],
   "source": [
    "def make_cube(x_points, y_points, t_points, z_points=None, name=\"thingness\"):\n",
    "    # Cube data.\n",
    "    if z_points is not None:\n",
    "        shape = [len(t_points), len(z_points), len(y_points), len(x_points)]\n",
    "    else:\n",
    "        shape = [len(t_points), len(y_points), len(x_points)]\n",
    "    data = np.zeros(shape)\n",
    "    \n",
    "    # Coords.\n",
    "    x_coord = DimCoord(x_points, standard_name=\"projection_x_coordinate\", units=\"m\")\n",
    "    y_coord = DimCoord(y_points, standard_name=\"projection_y_coordinate\", units=\"m\")\n",
    "    t_coord = DimCoord(t_points, standard_name=\"time\", units=\"hours since epoch\")\n",
    "    if z_points is not None:\n",
    "        z_coord = DimCoord(z_points, standard_name=\"height\", units=\"m\")\n",
    "        dcad = [(t_coord, 0), (z_coord, 1), (y_coord, 2), (x_coord, 3)]\n",
    "    else:\n",
    "        dcad = [(t_coord, 0), (y_coord, 1), (x_coord, 2)]\n",
    "        \n",
    "    # Construct cube.\n",
    "    cube = Cube(data, long_name=name, units=\"K\",\n",
    "                dim_coords_and_dims=dcad)\n",
    "    return cube\n",
    "\n",
    "\n",
    "def make_scalar_t_cube(x_points, y_points, t_point, name=\"thingness\"):\n",
    "    # Cube data.\n",
    "    shape = [len(y_points), len(x_points)]\n",
    "    data = np.zeros(shape)\n",
    "\n",
    "    # Coords.\n",
    "    x_coord = DimCoord(x_points, standard_name=\"projection_x_coordinate\", units=\"m\")\n",
    "    y_coord = DimCoord(y_points, standard_name=\"projection_y_coordinate\", units=\"m\")\n",
    "    scalar_t_coord = DimCoord(t_point, standard_name=\"time\", units=\"hours since epoch\")\n",
    "    dcad = [(y_coord, 0), (x_coord, 1)]\n",
    "        \n",
    "    # Construct cube.\n",
    "    cube = Cube(data, long_name=name, units=\"K\",\n",
    "                dim_coords_and_dims=dcad)\n",
    "    cube.add_aux_coord(scalar_t_coord)\n",
    "    return cube\n",
    "\n",
    "\n",
    "def make_cubelist(t_points):\n",
    "    x_points = [0, 1, 2]\n",
    "    y_points = [0, 1, 2, 3]\n",
    "    xyt_cube = make_cube(x_points, y_points, t_points)\n",
    "    \n",
    "    z_points = [0, 1]\n",
    "    xyzt_cube = make_cube(x_points, y_points, t_points, z_points)\n",
    "    \n",
    "    return CubeList([xyt_cube, xyzt_cube])"
   ]
  },
  {
   "cell_type": "markdown",
   "id": "2e10fbf8-73be-4d8f-9307-5028e523a5e6",
   "metadata": {},
   "source": [
    "## Test Datasets\n",
    "\n",
    "### Single-dim append\n",
    "\n",
    "Create two cubes to test single-dim, non-scalar append."
   ]
  },
  {
   "cell_type": "code",
   "execution_count": null,
   "id": "44b0cb56-dc6c-4bc6-9020-6612e5cdbde8",
   "metadata": {},
   "outputs": [],
   "source": [
    "xpts = [0, 1, 2]\n",
    "ypts = [0, 1, 2, 3]\n",
    "tpts0 = [0, 1]\n",
    "tpts1 = [2, 3]\n",
    "\n",
    "sdac0 = make_cube(xpts, ypts, tpts0)\n",
    "sdac1 = make_cube(xpts, ypts, tpts1)\n",
    "\n",
    "iris.save(sdac0, \"xy_t0.nc\")\n",
    "iris.save(sdac1, \"xy_t1.nc\")"
   ]
  },
  {
   "cell_type": "code",
   "execution_count": null,
   "id": "01ca35f9-ffd3-492f-b531-8eacae8b7bf9",
   "metadata": {},
   "outputs": [],
   "source": [
    "sdac0"
   ]
  },
  {
   "cell_type": "markdown",
   "id": "2fcc03af-0455-4597-9ada-741838396bf5",
   "metadata": {},
   "source": [
    "### Multi-dim append\n",
    "\n",
    "Create four cubes (two for each of two append dims `z` and `t`) to tests multi-dim, all non-scalar append."
   ]
  },
  {
   "cell_type": "code",
   "execution_count": null,
   "id": "390ddfea-f539-4237-b855-117579581090",
   "metadata": {},
   "outputs": [],
   "source": [
    "xpts = [0, 1, 2]\n",
    "ypts = [0, 1, 2, 3]\n",
    "tpts0 = [0, 1]\n",
    "tpts1 = [2, 3]\n",
    "zpts0 = [0, 1, 2]\n",
    "zpts1 = [3, 4, 5]\n",
    "\n",
    "mdac0 = make_cube(xpts, ypts, tpts0, z_points=zpts0)\n",
    "mdac1 = make_cube(xpts, ypts, tpts1, z_points=zpts0)\n",
    "mdac2 = make_cube(xpts, ypts, tpts0, z_points=zpts1)\n",
    "mdac3 = make_cube(xpts, ypts, tpts1, z_points=zpts1)\n",
    "\n",
    "iris.save(mdac0, \"xy_t0_z0.nc\")\n",
    "iris.save(mdac1, \"xy_t1_z0.nc\")\n",
    "iris.save(mdac2, \"xy_t0_z1.nc\")\n",
    "iris.save(mdac3, \"xy_t1_z1.nc\")"
   ]
  },
  {
   "cell_type": "code",
   "execution_count": null,
   "id": "7ca49560-b6e6-4587-8096-d863510031cd",
   "metadata": {},
   "outputs": [],
   "source": [
    "mdac0"
   ]
  },
  {
   "cell_type": "markdown",
   "id": "123cd181-1ee2-4fd3-8d85-41040aad9cc1",
   "metadata": {},
   "source": [
    "### Scalar append\n",
    "\n",
    "Create two cubes to test single dim scalar append."
   ]
  },
  {
   "cell_type": "code",
   "execution_count": null,
   "id": "54c5024f-2ac5-4947-9235-2e20278627c4",
   "metadata": {},
   "outputs": [],
   "source": [
    "xpts = [0, 1, 2]\n",
    "ypts = [0, 1, 2, 3]\n",
    "tpts0 = 0\n",
    "tpts1 = 1\n",
    "\n",
    "sac0 = make_scalar_t_cube(xpts, ypts, tpts0)\n",
    "sac1 = make_scalar_t_cube(xpts, ypts, tpts1)\n",
    "\n",
    "iris.save(sac0, \"xy_ts0.nc\")\n",
    "iris.save(sac1, \"xy_ts1.nc\")"
   ]
  },
  {
   "cell_type": "code",
   "execution_count": null,
   "id": "27cf363a-1506-4307-b967-4196c6d4da40",
   "metadata": {},
   "outputs": [],
   "source": [
    "sac0"
   ]
  },
  {
   "cell_type": "markdown",
   "id": "82167b98-2911-4494-add5-871ca1d1d646",
   "metadata": {},
   "source": [
    "#### Multiple single-phenomenon datasets\n",
    "\n",
    "Create two further identical cubes with a different phenomenon name."
   ]
  },
  {
   "cell_type": "code",
   "execution_count": null,
   "id": "a76d3bde-9e46-4ef2-8779-632c48deb270",
   "metadata": {},
   "outputs": [],
   "source": [
    "sacw0 = make_scalar_t_cube(xpts, ypts, tpts0, name=\"wibble\")\n",
    "sacw1 = make_scalar_t_cube(xpts, ypts, tpts1, name=\"wibble\")\n",
    "\n",
    "iris.save(sacw0, \"xy_tws0.nc\")\n",
    "iris.save(sacw1, \"xy_tws1.nc\")"
   ]
  },
  {
   "cell_type": "code",
   "execution_count": null,
   "id": "00866ec1-8be8-4aa4-a954-5eafd79723dd",
   "metadata": {},
   "outputs": [],
   "source": [
    "sacw0"
   ]
  },
  {
   "cell_type": "markdown",
   "id": "3c844a12-7489-400a-82b2-1a97658511a7",
   "metadata": {},
   "source": [
    "### Multi-domain append\n",
    "\n",
    "Create two cubelists of two cubes each to test appends where each TileDB array has multiple domains."
   ]
  },
  {
   "cell_type": "code",
   "execution_count": null,
   "id": "4fef6e0a-7687-4d06-a582-b0d04675cc95",
   "metadata": {},
   "outputs": [],
   "source": [
    "tpts0 = [0, 1]\n",
    "tpts1 = [2, 3]\n",
    "\n",
    "domcl0 = make_cubelist(tpts0)\n",
    "domcl1 = make_cubelist(tpts1)\n",
    "\n",
    "iris.save(domcl0, \"xy_z01_t0.nc\")\n",
    "iris.save(domcl1, \"xy_z01_t1.nc\")"
   ]
  },
  {
   "cell_type": "code",
   "execution_count": null,
   "id": "bdbbb0d7-103d-4990-b0db-b1892c46fb5e",
   "metadata": {},
   "outputs": [],
   "source": [
    "domcl0"
   ]
  },
  {
   "cell_type": "markdown",
   "id": "39e7baee-16ac-40f1-b915-f9ffb8ce86e9",
   "metadata": {},
   "source": [
    "## Post-process NetCDFs\n",
    "\n",
    "`tiledb-netcdf` uses a `coordinates` attribute on `Variable` objects to locate data variables, which Iris does not write, so we recreate the attribute here.\n",
    "\n",
    "**Note:** need to restart kernel to make this change as Iris will open handles to each written NetCDF file, which prevents them from being re-opened here."
   ]
  },
  {
   "cell_type": "code",
   "execution_count": null,
   "id": "c9fa108c-d5f2-4fe2-9e3f-e15e96fb5bb1",
   "metadata": {},
   "outputs": [],
   "source": [
    "files = [\"xy_t0.nc\", \"xy_t1.nc\",\n",
    "         \"xy_t0_z0.nc\", \"xy_t1_z0.nc\", \"xy_t0_z1.nc\", \"xy_t1_z1.nc\",\n",
    "         \"xy_ts0.nc\", \"xy_ts1.nc\",\n",
    "         \"xy_z01_t0.nc\", \"xy_z01_t1.nc\"]\n",
    "files2 = [\"xy_tws0.nc\", \"xy_tws1.nc\"]"
   ]
  },
  {
   "cell_type": "code",
   "execution_count": null,
   "id": "0af748a2-9e50-48c9-8daa-2b26055e22c3",
   "metadata": {},
   "outputs": [],
   "source": [
    "for nc_file in files:\n",
    "    ncds = netCDF4.Dataset(nc_file, \"r+\")\n",
    "    ncds.variables[\"thingness\"].coordinates = \" \".join(ncds.variables[\"thingness\"].dimensions)\n",
    "\n",
    "for nc_file in files2:\n",
    "    ncds = netCDF4.Dataset(nc_file, \"r+\")\n",
    "    ncds.variables[\"wibble\"].coordinates = \" \".join(ncds.variables[\"wibble\"].dimensions)"
   ]
  },
  {
   "cell_type": "code",
   "execution_count": null,
   "id": "a0f4e4fb-c005-450d-99c9-12fd159479b2",
   "metadata": {},
   "outputs": [],
   "source": []
  }
 ],
 "metadata": {
  "kernelspec": {
   "display_name": "Python 3",
   "language": "python",
   "name": "python3"
  },
  "language_info": {
   "codemirror_mode": {
    "name": "ipython",
    "version": 3
   },
   "file_extension": ".py",
   "mimetype": "text/x-python",
   "name": "python",
   "nbconvert_exporter": "python",
   "pygments_lexer": "ipython3",
   "version": "3.8.10"
  }
 },
 "nbformat": 4,
 "nbformat_minor": 5
}
